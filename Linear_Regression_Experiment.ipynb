{
  "cells": [
    {
      "cell_type": "markdown",
      "metadata": {
        "id": "view-in-github",
        "colab_type": "text"
      },
      "source": [
        "<a href=\"https://colab.research.google.com/github/tylereriksen/PersonalProjects/blob/main/Linear_Regression_Experiment.ipynb\" target=\"_parent\"><img src=\"https://colab.research.google.com/assets/colab-badge.svg\" alt=\"Open In Colab\"/></a>"
      ]
    },
    {
      "cell_type": "markdown",
      "metadata": {
        "id": "qq1uIwVOhrCe"
      },
      "source": [
        "This notebook will look to show the Kepler's Third Law. We will do this by linear regression on a dataset of known planets, dwarf planets, and objects from a given dataset (which will contain a subset of all known intrasolar objects to train and test data with). We will be finding the line for the linear regression without using the SKLearn package and with it to see the differences in output."
      ]
    },
    {
      "cell_type": "code",
      "execution_count": 65,
      "metadata": {
        "id": "RJ8tlVLGg0ah"
      },
      "outputs": [],
      "source": [
        "import pandas as pd\n",
        "import matplotlib.pyplot as plt\n",
        "import numpy as np\n",
        "import sklearn\n",
        "from sklearn import linear_model\n",
        "from sklearn.utils import shuffle"
      ]
    },
    {
      "cell_type": "markdown",
      "metadata": {
        "id": "4RMmApoahqbI"
      },
      "source": [
        "Make the data set of the planetary values for distance from sun and orbital duration"
      ]
    },
    {
      "cell_type": "code",
      "execution_count": 66,
      "metadata": {
        "colab": {
          "base_uri": "https://localhost:8080/",
          "height": 676
        },
        "id": "NrhLwvsXiCk3",
        "outputId": "09594404-56b1-4d55-c2b3-070cf0d3ecc9"
      },
      "outputs": [
        {
          "output_type": "execute_result",
          "data": {
            "text/plain": [
              "   Planet/Dwarf Planet/Object  Average Distance From Sun (Millions of Miles)  \\\n",
              "0                     Mercury                                         35.980   \n",
              "1                       Venus                                         67.237   \n",
              "2                       Earth                                         92.955   \n",
              "3                        Mars                                        141.635   \n",
              "4                       Vesta                                        219.542   \n",
              "5                       Ceres                                        257.342   \n",
              "6                      Pallas                                        257.490   \n",
              "7                      Hygiea                                        292.021   \n",
              "8                     Jupiter                                        483.723   \n",
              "9                      Saturn                                        890.758   \n",
              "10             Halley's Comet                                       1657.774   \n",
              "11                     Uranus                                       1783.393   \n",
              "12                    Neptune                                       2795.180   \n",
              "13                      Orcus                                       3641.451   \n",
              "14                      Pluto                                       3670.050   \n",
              "15                     Haumea                                       4007.883   \n",
              "16                     Quaoar                                       4061.633   \n",
              "17                   Makemake                                       4222.980   \n",
              "18                       Eris                                       6308.350   \n",
              "19                      Sedna                                      47040.000   \n",
              "\n",
              "    Orbital Revolution Duration (Earth years)  \n",
              "0                                      0.2410  \n",
              "1                                      0.6160  \n",
              "2                                      1.0000  \n",
              "3                                      1.8810  \n",
              "4                                      3.6300  \n",
              "5                                      4.6051  \n",
              "6                                      4.6130  \n",
              "7                                      5.5700  \n",
              "8                                     11.8620  \n",
              "9                                     29.4571  \n",
              "10                                    75.3200  \n",
              "11                                    84.0205  \n",
              "12                                   164.8000  \n",
              "13                                   245.1900  \n",
              "14                                   247.9400  \n",
              "15                                   283.1200  \n",
              "16                                   288.8300  \n",
              "17                                   306.2100  \n",
              "18                                   559.0700  \n",
              "19                                 11390.0000  "
            ],
            "text/html": [
              "\n",
              "  <div id=\"df-48519f38-a159-4cc6-92d7-871e53b7eb26\">\n",
              "    <div class=\"colab-df-container\">\n",
              "      <div>\n",
              "<style scoped>\n",
              "    .dataframe tbody tr th:only-of-type {\n",
              "        vertical-align: middle;\n",
              "    }\n",
              "\n",
              "    .dataframe tbody tr th {\n",
              "        vertical-align: top;\n",
              "    }\n",
              "\n",
              "    .dataframe thead th {\n",
              "        text-align: right;\n",
              "    }\n",
              "</style>\n",
              "<table border=\"1\" class=\"dataframe\">\n",
              "  <thead>\n",
              "    <tr style=\"text-align: right;\">\n",
              "      <th></th>\n",
              "      <th>Planet/Dwarf Planet/Object</th>\n",
              "      <th>Average Distance From Sun (Millions of Miles)</th>\n",
              "      <th>Orbital Revolution Duration (Earth years)</th>\n",
              "    </tr>\n",
              "  </thead>\n",
              "  <tbody>\n",
              "    <tr>\n",
              "      <th>0</th>\n",
              "      <td>Mercury</td>\n",
              "      <td>35.980</td>\n",
              "      <td>0.2410</td>\n",
              "    </tr>\n",
              "    <tr>\n",
              "      <th>1</th>\n",
              "      <td>Venus</td>\n",
              "      <td>67.237</td>\n",
              "      <td>0.6160</td>\n",
              "    </tr>\n",
              "    <tr>\n",
              "      <th>2</th>\n",
              "      <td>Earth</td>\n",
              "      <td>92.955</td>\n",
              "      <td>1.0000</td>\n",
              "    </tr>\n",
              "    <tr>\n",
              "      <th>3</th>\n",
              "      <td>Mars</td>\n",
              "      <td>141.635</td>\n",
              "      <td>1.8810</td>\n",
              "    </tr>\n",
              "    <tr>\n",
              "      <th>4</th>\n",
              "      <td>Vesta</td>\n",
              "      <td>219.542</td>\n",
              "      <td>3.6300</td>\n",
              "    </tr>\n",
              "    <tr>\n",
              "      <th>5</th>\n",
              "      <td>Ceres</td>\n",
              "      <td>257.342</td>\n",
              "      <td>4.6051</td>\n",
              "    </tr>\n",
              "    <tr>\n",
              "      <th>6</th>\n",
              "      <td>Pallas</td>\n",
              "      <td>257.490</td>\n",
              "      <td>4.6130</td>\n",
              "    </tr>\n",
              "    <tr>\n",
              "      <th>7</th>\n",
              "      <td>Hygiea</td>\n",
              "      <td>292.021</td>\n",
              "      <td>5.5700</td>\n",
              "    </tr>\n",
              "    <tr>\n",
              "      <th>8</th>\n",
              "      <td>Jupiter</td>\n",
              "      <td>483.723</td>\n",
              "      <td>11.8620</td>\n",
              "    </tr>\n",
              "    <tr>\n",
              "      <th>9</th>\n",
              "      <td>Saturn</td>\n",
              "      <td>890.758</td>\n",
              "      <td>29.4571</td>\n",
              "    </tr>\n",
              "    <tr>\n",
              "      <th>10</th>\n",
              "      <td>Halley's Comet</td>\n",
              "      <td>1657.774</td>\n",
              "      <td>75.3200</td>\n",
              "    </tr>\n",
              "    <tr>\n",
              "      <th>11</th>\n",
              "      <td>Uranus</td>\n",
              "      <td>1783.393</td>\n",
              "      <td>84.0205</td>\n",
              "    </tr>\n",
              "    <tr>\n",
              "      <th>12</th>\n",
              "      <td>Neptune</td>\n",
              "      <td>2795.180</td>\n",
              "      <td>164.8000</td>\n",
              "    </tr>\n",
              "    <tr>\n",
              "      <th>13</th>\n",
              "      <td>Orcus</td>\n",
              "      <td>3641.451</td>\n",
              "      <td>245.1900</td>\n",
              "    </tr>\n",
              "    <tr>\n",
              "      <th>14</th>\n",
              "      <td>Pluto</td>\n",
              "      <td>3670.050</td>\n",
              "      <td>247.9400</td>\n",
              "    </tr>\n",
              "    <tr>\n",
              "      <th>15</th>\n",
              "      <td>Haumea</td>\n",
              "      <td>4007.883</td>\n",
              "      <td>283.1200</td>\n",
              "    </tr>\n",
              "    <tr>\n",
              "      <th>16</th>\n",
              "      <td>Quaoar</td>\n",
              "      <td>4061.633</td>\n",
              "      <td>288.8300</td>\n",
              "    </tr>\n",
              "    <tr>\n",
              "      <th>17</th>\n",
              "      <td>Makemake</td>\n",
              "      <td>4222.980</td>\n",
              "      <td>306.2100</td>\n",
              "    </tr>\n",
              "    <tr>\n",
              "      <th>18</th>\n",
              "      <td>Eris</td>\n",
              "      <td>6308.350</td>\n",
              "      <td>559.0700</td>\n",
              "    </tr>\n",
              "    <tr>\n",
              "      <th>19</th>\n",
              "      <td>Sedna</td>\n",
              "      <td>47040.000</td>\n",
              "      <td>11390.0000</td>\n",
              "    </tr>\n",
              "  </tbody>\n",
              "</table>\n",
              "</div>\n",
              "      <button class=\"colab-df-convert\" onclick=\"convertToInteractive('df-48519f38-a159-4cc6-92d7-871e53b7eb26')\"\n",
              "              title=\"Convert this dataframe to an interactive table.\"\n",
              "              style=\"display:none;\">\n",
              "        \n",
              "  <svg xmlns=\"http://www.w3.org/2000/svg\" height=\"24px\"viewBox=\"0 0 24 24\"\n",
              "       width=\"24px\">\n",
              "    <path d=\"M0 0h24v24H0V0z\" fill=\"none\"/>\n",
              "    <path d=\"M18.56 5.44l.94 2.06.94-2.06 2.06-.94-2.06-.94-.94-2.06-.94 2.06-2.06.94zm-11 1L8.5 8.5l.94-2.06 2.06-.94-2.06-.94L8.5 2.5l-.94 2.06-2.06.94zm10 10l.94 2.06.94-2.06 2.06-.94-2.06-.94-.94-2.06-.94 2.06-2.06.94z\"/><path d=\"M17.41 7.96l-1.37-1.37c-.4-.4-.92-.59-1.43-.59-.52 0-1.04.2-1.43.59L10.3 9.45l-7.72 7.72c-.78.78-.78 2.05 0 2.83L4 21.41c.39.39.9.59 1.41.59.51 0 1.02-.2 1.41-.59l7.78-7.78 2.81-2.81c.8-.78.8-2.07 0-2.86zM5.41 20L4 18.59l7.72-7.72 1.47 1.35L5.41 20z\"/>\n",
              "  </svg>\n",
              "      </button>\n",
              "      \n",
              "  <style>\n",
              "    .colab-df-container {\n",
              "      display:flex;\n",
              "      flex-wrap:wrap;\n",
              "      gap: 12px;\n",
              "    }\n",
              "\n",
              "    .colab-df-convert {\n",
              "      background-color: #E8F0FE;\n",
              "      border: none;\n",
              "      border-radius: 50%;\n",
              "      cursor: pointer;\n",
              "      display: none;\n",
              "      fill: #1967D2;\n",
              "      height: 32px;\n",
              "      padding: 0 0 0 0;\n",
              "      width: 32px;\n",
              "    }\n",
              "\n",
              "    .colab-df-convert:hover {\n",
              "      background-color: #E2EBFA;\n",
              "      box-shadow: 0px 1px 2px rgba(60, 64, 67, 0.3), 0px 1px 3px 1px rgba(60, 64, 67, 0.15);\n",
              "      fill: #174EA6;\n",
              "    }\n",
              "\n",
              "    [theme=dark] .colab-df-convert {\n",
              "      background-color: #3B4455;\n",
              "      fill: #D2E3FC;\n",
              "    }\n",
              "\n",
              "    [theme=dark] .colab-df-convert:hover {\n",
              "      background-color: #434B5C;\n",
              "      box-shadow: 0px 1px 3px 1px rgba(0, 0, 0, 0.15);\n",
              "      filter: drop-shadow(0px 1px 2px rgba(0, 0, 0, 0.3));\n",
              "      fill: #FFFFFF;\n",
              "    }\n",
              "  </style>\n",
              "\n",
              "      <script>\n",
              "        const buttonEl =\n",
              "          document.querySelector('#df-48519f38-a159-4cc6-92d7-871e53b7eb26 button.colab-df-convert');\n",
              "        buttonEl.style.display =\n",
              "          google.colab.kernel.accessAllowed ? 'block' : 'none';\n",
              "\n",
              "        async function convertToInteractive(key) {\n",
              "          const element = document.querySelector('#df-48519f38-a159-4cc6-92d7-871e53b7eb26');\n",
              "          const dataTable =\n",
              "            await google.colab.kernel.invokeFunction('convertToInteractive',\n",
              "                                                     [key], {});\n",
              "          if (!dataTable) return;\n",
              "\n",
              "          const docLinkHtml = 'Like what you see? Visit the ' +\n",
              "            '<a target=\"_blank\" href=https://colab.research.google.com/notebooks/data_table.ipynb>data table notebook</a>'\n",
              "            + ' to learn more about interactive tables.';\n",
              "          element.innerHTML = '';\n",
              "          dataTable['output_type'] = 'display_data';\n",
              "          await google.colab.output.renderOutput(dataTable, element);\n",
              "          const docLink = document.createElement('div');\n",
              "          docLink.innerHTML = docLinkHtml;\n",
              "          element.appendChild(docLink);\n",
              "        }\n",
              "      </script>\n",
              "    </div>\n",
              "  </div>\n",
              "  "
            ]
          },
          "metadata": {},
          "execution_count": 66
        }
      ],
      "source": [
        "d = {'Planet/Dwarf Planet/Object':['Mercury', 'Venus', 'Earth', 'Mars', 'Vesta', 'Ceres', 'Pallas', 'Hygiea', 'Jupiter', 'Saturn', 'Halley\\'s Comet', 'Uranus', 'Neptune', 'Orcus', 'Pluto', 'Haumea', 'Quaoar', 'Makemake', 'Eris', 'Sedna'], \n",
        "     'Average Distance From Sun (Millions of Miles)':[35.98, 67.237, 92.955, 141.635, 219.542, 257.342, 257.49, 292.021, 483.723, 890.758, 1657.774, 1783.393, 2795.18, 3641.451, 3670.05, 4007.883, 4061.633, 4222.98, 6308.35, 47040], \n",
        "     'Orbital Revolution Duration (Earth years)':[0.241, 0.616, 1, 1.881, 3.63, 4.6051, 4.613, 5.57, 11.862, 29.4571, 75.32, 84.0205, 164.8, 245.19, 247.94, 283.12, 288.83, 306.21, 559.07, 11390]}\n",
        "\n",
        "df = pd.DataFrame(data = d)\n",
        "df"
      ]
    },
    {
      "cell_type": "markdown",
      "metadata": {
        "id": "qGsxH_nkQHZA"
      },
      "source": [
        "We will now transform the data into the proper form we want to do our linear regression. After doing so, we will split our data set into two parts: one for training our linear regression model and the other for testing how well suited and accurate the model is."
      ]
    },
    {
      "cell_type": "code",
      "execution_count": 67,
      "metadata": {
        "colab": {
          "base_uri": "https://localhost:8080/"
        },
        "id": "wBsWcX1hqWsN",
        "outputId": "8908000b-8bd4-4d7a-e8c7-82569b04e78f"
      },
      "outputs": [
        {
          "output_type": "stream",
          "name": "stdout",
          "text": [
            "            Planet          Cube        Square\n",
            "0          Mercury  4.657828e-01  5.808100e-02\n",
            "1            Venus  3.039660e+00  3.794560e-01\n",
            "2            Earth  8.031899e+00  1.000000e+00\n",
            "3             Mars  2.841265e+01  3.538161e+00\n",
            "4            Vesta  1.058164e+02  1.317690e+01\n",
            "5            Ceres  1.704245e+02  2.120695e+01\n",
            "6           Pallas  1.707187e+02  2.127977e+01\n",
            "7           Hygiea  2.490246e+02  3.102490e+01\n",
            "8          Jupiter  1.131853e+03  1.407070e+02\n",
            "9           Saturn  7.067718e+03  8.677207e+02\n",
            "10  Halley's Comet  4.555919e+04  5.673102e+03\n",
            "11          Uranus  5.672065e+04  7.059444e+03\n",
            "12         Neptune  2.183883e+05  2.715904e+04\n",
            "13           Orcus  4.828624e+05  6.011814e+04\n",
            "14           Pluto  4.943288e+05  6.147424e+04\n",
            "15          Haumea  6.437913e+05  8.015693e+04\n",
            "16          Quaoar  6.700420e+05  8.342277e+04\n",
            "17        Makemake  7.531077e+05  9.376456e+04\n",
            "18            Eris  2.510426e+06  3.125593e+05\n",
            "19           Sedna  1.040883e+09  1.297321e+08\n",
            "[[1.04088306e+09]\n",
            " [8.03189950e+00]\n",
            " [5.67206466e+04]\n",
            " [7.06771770e+03]\n",
            " [6.43791302e+05]\n",
            " [1.70424495e+02]\n",
            " [2.18388286e+05]\n",
            " [3.03965982e+00]\n",
            " [4.65782832e-01]\n",
            " [1.70718703e+02]\n",
            " [4.55591877e+04]\n",
            " [1.05816367e+02]\n",
            " [2.51042553e+06]] [1.29732100e+08 1.00000000e+00 7.05944442e+03 8.67720740e+02\n",
            " 8.01569344e+04 2.12069460e+01 2.71590400e+04 3.79456000e-01\n",
            " 5.80810000e-02 2.12797690e+01 5.67310240e+03 1.31769000e+01\n",
            " 3.12559265e+05]\n",
            "[[4.82862425e+05]\n",
            " [4.94328834e+05]\n",
            " [7.53107675e+05]\n",
            " [2.49024600e+02]\n",
            " [1.13185349e+03]\n",
            " [2.84126513e+01]\n",
            " [6.70042016e+05]] [6.01181361e+04 6.14742436e+04 9.37645641e+04 3.10249000e+01\n",
            " 1.40707044e+02 3.53816100e+00 8.34227689e+04]\n"
          ]
        },
        {
          "output_type": "stream",
          "name": "stderr",
          "text": [
            "/usr/local/lib/python3.7/dist-packages/ipykernel_launcher.py:12: FutureWarning: In a future version of pandas all arguments of DataFrame.drop except for the argument 'labels' will be keyword-only\n",
            "  if sys.path[0] == '':\n"
          ]
        }
      ],
      "source": [
        "# list of the planet's distances from sun cubed divided by 100000 for easier representation and comparison with the Y-set\n",
        "X = [(1/100000) * x ** 3 for x in list(df['Average Distance From Sun (Millions of Miles)'])]\n",
        "# list of the planet's orbital years squared\n",
        "Y = [y ** 2 for y in list(df['Orbital Revolution Duration (Earth years)'])]\n",
        "\n",
        "dp = pd.DataFrame(data = {'Planet': ['Mercury', 'Venus', 'Earth', 'Mars', 'Vesta', 'Ceres', 'Pallas', 'Hygiea', 'Jupiter', 'Saturn', 'Halley\\'s Comet', 'Uranus', 'Neptune', 'Orcus', 'Pluto', 'Haumea', 'Quaoar', 'Makemake', 'Eris', 'Sedna'], \n",
        "                          'Cube': X,\n",
        "                          'Square': Y})\n",
        "print(dp)\n",
        "predict = 'Square'\n",
        "dp = dp[['Cube', 'Square']]\n",
        "X = np.array(dp.drop([predict], 1))\n",
        "y = np.array(dp[predict])\n",
        "x_train, x_test, y_train, y_test = sklearn.model_selection.train_test_split(X, y, test_size = 0.33)\n",
        "print(x_train, y_train)\n",
        "print(x_test, y_test)"
      ]
    },
    {
      "cell_type": "markdown",
      "metadata": {
        "id": "9vUd0WCVSl8C"
      },
      "source": [
        "Graph of the above data to show that a trend can be generally seen and that a linear regression would suffice for this."
      ]
    },
    {
      "cell_type": "code",
      "execution_count": 68,
      "metadata": {
        "colab": {
          "base_uri": "https://localhost:8080/",
          "height": 299
        },
        "id": "ANlNllfDuXZ_",
        "outputId": "38eb7750-dde3-481b-fbd3-81687dfe7513"
      },
      "outputs": [
        {
          "output_type": "display_data",
          "data": {
            "text/plain": [
              "<Figure size 432x288 with 1 Axes>"
            ],
            "image/png": "[encoded data removed]"
          },
          "metadata": {
            "needs_background": "light"
          }
        }
      ],
      "source": [
        "plt.scatter(x_train, y_train, label= \"planets\", color= \"red\",\n",
        "            marker= \"*\")\n",
        "plt.xscale(\"log\")\n",
        "plt.xlabel('Cube of Average Distance from Sun')\n",
        "plt.yscale(\"log\")\n",
        "plt.ylabel('Square of Orbital Revolution Duration')\n",
        "plt.title('Kepler\\'s Third Law')\n",
        "plt.legend()\n",
        "plt.show()"
      ]
    },
    {
      "cell_type": "markdown",
      "metadata": {
        "id": "bfAwNbhY13U-"
      },
      "source": [
        "We can calculate the slope of the linear regression line by calculating the following sums: $m = \\frac{\\sum (x-x_i)(y-y_i)}{\\sum (x-x_i)^2}$. $x_i$ is equal to the average of the $x$ values and $y_i$ is equal to the average of the $y$ values. We can then use this to find our y-intercept and get the equation for our linear regression line as $y = mx + b$."
      ]
    },
    {
      "cell_type": "code",
      "execution_count": 69,
      "metadata": {
        "colab": {
          "base_uri": "https://localhost:8080/"
        },
        "id": "xaMgP3Ey7Zgw",
        "outputId": "c0b62546-2b5c-4265-f95a-8dfa0b1fef5d"
      },
      "outputs": [
        {
          "output_type": "stream",
          "name": "stdout",
          "text": [
            "                       x             y                  x-xi          y-yi  \\\n",
            "0   [1040883056.6400001]  1.297321e+08   [960547251.4241878]  1.197194e+08   \n",
            "1     [8.03189949883875]  1.000000e+00  [-80335797.18391281] -1.001274e+07   \n",
            "2      [56720.646591394]  7.059444e+03  [-80279084.56922092] -1.000568e+07   \n",
            "3    [7067.717699213997]  8.677207e+02   [-80328737.4981131] -1.001187e+07   \n",
            "4    [643791.3019013093]  8.015693e+04    [-79692013.913911] -9.932584e+06   \n",
            "5   [170.42449493245684]  2.120695e+01  [-80335634.79131737] -1.001272e+07   \n",
            "6    [218388.2864017983]  2.715904e+04  [-80117416.92941052] -9.985582e+06   \n",
            "7   [3.0396598228105294]  3.794560e-01  [-80335802.17615248] -1.001274e+07   \n",
            "8   [0.4657828319199999]  5.808100e-02  [-80335804.75002947] -1.001274e+07   \n",
            "9   [170.71870264749003]  2.127977e+01  [-80335634.49710967] -1.001272e+07   \n",
            "10    [45559.1876844848]  5.673102e+03  [-80290246.02812782] -1.000707e+07   \n",
            "11   [105.8163674816809]  1.317690e+01  [-80335699.39944483] -1.001273e+07   \n",
            "12   [2510425.528374329]  3.125593e+05  [-77825379.68743798] -9.700182e+06   \n",
            "\n",
            "                   (x-xi)^2              (x-xi)(y-yi)  \n",
            "0   [9.226510222185618e+17]  [1.1499610125867886e+17]  \n",
            "1      [6453840309174774.0]       [804381447472896.2]  \n",
            "2      [6444731419272124.0]       [803246953352435.8]  \n",
            "3      [6452706068040761.0]       [804241138091874.4]  \n",
            "4      [6350817081654984.0]       [791547625153943.0]  \n",
            "5      [6453814217323922.0]       [804378198140230.2]  \n",
            "6      [6418800495440995.0]       [800019030756350.2]  \n",
            "7      [6453841111285906.0]       [804381547310794.0]  \n",
            "8      [6453841524834858.0]       [804381598900276.0]  \n",
            "9      [6453814170053197.0]       [804378189344129.9]  \n",
            "10     [6446523607257295.0]       [803469941097502.5]  \n",
            "11     [6453824597997961.0]       [804379490142667.4]  \n",
            "12     [6056789723493884.0]       [754920324224649.8]  \n",
            "From this data, we can conclude that the slope is 0.124637 and the intercept is -41.884023\n"
          ]
        }
      ],
      "source": [
        "# finding the averages of the X and Y\n",
        "xi = sum(x_train) / len(x_train)\n",
        "yi = sum(y_train) / len(y_train)\n",
        "\n",
        "# table and data for the datatable for calculations\n",
        "xData = {'x': [i for i in x_train],\n",
        "         'y': [i for i in y_train],\n",
        "         'x-xi': [i - xi for i in x_train],\n",
        "         'y-yi': [i - yi for i in y_train],\n",
        "         '(x-xi)^2': [(i - xi) ** 2 for i in x_train],\n",
        "         '(x-xi)(y-yi)': [(x_train[i] - xi) * (y_train[i] - yi) for i in range(len(x_train))]}\n",
        "yData = pd.DataFrame(data = xData)\n",
        "print(yData)\n",
        "\n",
        "# finding the slope and intercept based on the calculations\n",
        "slope = float(sum(yData[yData.columns[-1]]) / sum(yData[yData.columns[-2]]))\n",
        "# returns a np array so get the value in the array\n",
        "intercept = (yi - slope * xi)[0]\n",
        "print(\"From this data, we can conclude that the slope is %f and the intercept is %f\" %(slope, intercept))"
      ]
    },
    {
      "cell_type": "markdown",
      "source": [
        "We will graph our linear regression equation with the graph in order to see how well the data points fit with it graphically/visually."
      ],
      "metadata": {
        "id": "Dz28DuYOcxt8"
      }
    },
    {
      "cell_type": "code",
      "execution_count": 70,
      "metadata": {
        "colab": {
          "base_uri": "https://localhost:8080/",
          "height": 517
        },
        "id": "McM-xsaASv-W",
        "outputId": "b9a0b7fb-9c07-4957-844d-7b179b627487"
      },
      "outputs": [
        {
          "output_type": "display_data",
          "data": {
            "text/plain": [
              "<Figure size 1080x576 with 1 Axes>"
            ],
            "image/png": "[encoded data removed]"
          },
          "metadata": {
            "needs_background": "light"
          }
        }
      ],
      "source": [
        "# graph of the data points along with the linear regression line\n",
        "plt.figure(figsize = (15, 8))\n",
        "plt.scatter(x_train, y_train, label= \"planets train\", color= \"red\",\n",
        "            marker= \"*\")\n",
        "plt.scatter(x_test, y_test, label= \"planets test\", color= \"blue\",\n",
        "            marker= \"x\")\n",
        "a = np.linspace(0, max(np.concatenate((x_train, x_test), axis = 0)))\n",
        "plt.plot(a, a * slope + intercept, label = \"linear regression\", color = \"black\")\n",
        "plt.xscale(\"log\")\n",
        "plt.xlabel('Cube of Average Distance from Sun')\n",
        "plt.yscale(\"log\")\n",
        "plt.ylabel('Square of Orbital Revolution Duration')\n",
        "plt.title('Kepler\\'s Third Law')\n",
        "plt.legend()\n",
        "plt.show()"
      ]
    },
    {
      "cell_type": "markdown",
      "source": [
        "This part will print out the expected values for all the test data points and compare it with the predicted values from the linear regression."
      ],
      "metadata": {
        "id": "oIK6sH9GDZK-"
      }
    },
    {
      "cell_type": "code",
      "source": [
        "for idx, celestials in enumerate(x_test):\n",
        "  print(\"The predicted value was %f and the actual value was %f\" %(celestials * slope + intercept, y_test[idx]))\n",
        "  # print(\"The error is %f percent\" %(abs((celestials * slope + intercept - y_test[idx]) / y_test[idx]) * 100))\n",
        "  print()"
      ],
      "metadata": {
        "colab": {
          "base_uri": "https://localhost:8080/"
        },
        "id": "SyaDTCeuYFoS",
        "outputId": "ecc55e13-98aa-4ac8-948a-6e41bbe43788"
      },
      "execution_count": 71,
      "outputs": [
        {
          "output_type": "stream",
          "name": "stdout",
          "text": [
            "The predicted value was 60140.454314 and the actual value was 60118.136100\n",
            "\n",
            "The predicted value was 61569.588672 and the actual value was 61474.243600\n",
            "\n",
            "The predicted value was 93822.907646 and the actual value was 93764.564100\n",
            "\n",
            "The predicted value was -10.846440 and the actual value was 31.024900\n",
            "\n",
            "The predicted value was 99.186364 and the actual value was 140.707044\n",
            "\n",
            "The predicted value was -38.342767 and the actual value was 3.538161\n",
            "\n",
            "The predicted value was 83469.885047 and the actual value was 83422.768900\n",
            "\n"
          ]
        }
      ]
    },
    {
      "cell_type": "markdown",
      "source": [
        "Now we will try to find the coefficient of determination of this set, $R^2$. This can be found by finding the residual sum of squares and total sum of squares. The residual sum is the square of the difference between the predicted value from the linear regression model with the actual value. The total sum of squares is square of the differences between the actual value with the mean of the actual values."
      ],
      "metadata": {
        "id": "bByOfuJaI8CW"
      }
    },
    {
      "cell_type": "code",
      "source": [
        "# find the residual sum of squares\n",
        "u = 0\n",
        "for idx in range(len(x_test)):\n",
        "  u += (y_test[idx] - (x_test[idx] * slope + intercept)) ** 2\n",
        "# return an np array so get the value in the array\n",
        "u = u[0]\n",
        "\n",
        "# find the total sum of squares\n",
        "v = 0\n",
        "yavg = sum(y_test) / len(y_test)\n",
        "for idx in range(len(y_test)):\n",
        "  v += (y_test[idx] - yavg) ** 2\n",
        "\n",
        "# find the value of R^2 based on the above values\n",
        "accuracy = 1 - u / v\n",
        "print(accuracy)"
      ],
      "metadata": {
        "colab": {
          "base_uri": "https://localhost:8080/"
        },
        "id": "6CB0SNo8pHJQ",
        "outputId": "b3528088-2e0b-469b-ca70-933edaa48968"
      },
      "execution_count": 72,
      "outputs": [
        {
          "output_type": "stream",
          "name": "stdout",
          "text": [
            "0.9999980298326423\n"
          ]
        }
      ]
    },
    {
      "cell_type": "markdown",
      "source": [
        "Let's compare the above values--the slope, the intercept, and the $R^2$ coefficient of determination--with the values that we will get in sklearn package linear regression."
      ],
      "metadata": {
        "id": "J8whLS1TxDxq"
      }
    },
    {
      "cell_type": "code",
      "source": [
        "print('My Slope Coefficient: \\n', slope)\n",
        "print('My Intercept: \\n', intercept)\n",
        "print('My Accuracy: \\n', accuracy, '\\n\\n')\n",
        "\n",
        "linear = linear_model.LinearRegression()\n",
        "linear.fit(x_train, y_train)\n",
        "acc = linear.score(x_test, y_test)\n",
        "print('SKLearn Slope Coefficient: \\n', linear.coef_[0]) # there is only one covariate\n",
        "print('SKLearn Intercept: \\n', linear.intercept_)\n",
        "print('SKLearn Accruacy: \\n', acc)"
      ],
      "metadata": {
        "colab": {
          "base_uri": "https://localhost:8080/"
        },
        "id": "cZwaN8INg76j",
        "outputId": "96c205cc-63d4-4cc5-f2a2-c38afd3081f8"
      },
      "execution_count": 73,
      "outputs": [
        {
          "output_type": "stream",
          "name": "stdout",
          "text": [
            "My Slope Coefficient: \n",
            " 0.12463661535441577\n",
            "My Intercept: \n",
            " -41.884023336693645\n",
            "My Accuracy: \n",
            " 0.9999980298326423 \n",
            "\n",
            "\n",
            "SKLearn Slope Coefficient: \n",
            " 0.12463661535441578\n",
            "SKLearn Intercept: \n",
            " -41.884023336693645\n",
            "SKLearn Accruacy: \n",
            " 0.9999980298326423\n"
          ]
        }
      ]
    }
  ],
  "metadata": {
    "colab": {
      "name": "Linear Regression Experiment",
      "provenance": [],
      "authorship_tag": "ABX9TyMDRC3Fb5KIE2j4JZICvKA9",
      "include_colab_link": true
    },
    "kernelspec": {
      "display_name": "Python 3",
      "name": "python3"
    },
    "language_info": {
      "name": "python"
    }
  },
  "nbformat": 4,
  "nbformat_minor": 0
}