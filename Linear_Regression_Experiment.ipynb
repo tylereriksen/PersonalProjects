{
  "cells": [
    {
      "cell_type": "markdown",
      "metadata": {
        "id": "view-in-github",
        "colab_type": "text"
      },
      "source": [
        "<a href=\"https://colab.research.google.com/github/tylereriksen/PersonalProjects/blob/main/Linear_Regression_Experiment.ipynb\" target=\"_parent\"><img src=\"https://colab.research.google.com/assets/colab-badge.svg\" alt=\"Open In Colab\"/></a>"
      ]
    },
    {
      "cell_type": "markdown",
      "metadata": {
        "id": "qq1uIwVOhrCe"
      },
      "source": [
        "This notebook will look to show the Kepler's Third Law. We will do this by linear regression on a dataset of known planets, dwarf planets, and objects from a given dataset (which will contain a subset of all known intrasolar objects to train and test data with). We will be finding the line for the linear regression without using the SKLearn package and with it to see the differences in output."
      ]
    },
    {
      "cell_type": "code",
      "execution_count": null,
      "metadata": {
        "id": "RJ8tlVLGg0ah"
      },
      "outputs": [],
      "source": [
        "import pandas as pd\n",
        "import matplotlib.pyplot as plt\n",
        "import numpy as np\n",
        "import sklearn\n",
        "from sklearn import linear_model\n",
        "from sklearn.utils import shuffle"
      ]
    },
    {
      "cell_type": "markdown",
      "metadata": {
        "id": "4RMmApoahqbI"
      },
      "source": [
        "Make the data set of the planetary values for distance from sun and orbital duration"
      ]
    },
    {
      "cell_type": "code",
      "execution_count": null,
      "metadata": {
        "colab": {
          "base_uri": "https://localhost:8080/",
          "height": 676
        },
        "id": "NrhLwvsXiCk3",
        "outputId": "5221cace-2737-4c93-b318-50cd3ee4360c"
      },
      "outputs": [
        {
          "output_type": "execute_result",
          "data": {
            "text/plain": [
              "   Planet/Dwarf Planet/Object  Average Distance From Sun (Millions of Miles)  \\\n",
              "0                     Mercury                                         33.390   \n",
              "1                       Venus                                         67.641   \n",
              "2                       Earth                                         93.581   \n",
              "3                        Mars                                        131.090   \n",
              "4                       Vesta                                        219.452   \n",
              "5                       Ceres                                        257.326   \n",
              "6                      Pallas                                        257.490   \n",
              "7                      Hygiea                                        292.021   \n",
              "8                     Jupiter                                        462.290   \n",
              "9                      Saturn                                        918.330   \n",
              "10             Halley's Comet                                       1657.774   \n",
              "11                     Uranus                                       1831.300   \n",
              "12                    Neptune                                       2780.300   \n",
              "13                      Orcus                                       3641.451   \n",
              "14                      Pluto                                       3670.050   \n",
              "15                     Haumea                                       4007.883   \n",
              "16                     Quaoar                                       4061.633   \n",
              "17                   Makemake                                       4222.980   \n",
              "18                       Eris                                       6308.350   \n",
              "19                      Sedna                                      47040.000   \n",
              "\n",
              "    Orbital Revolution Duration (Earth years)  \n",
              "0                                      0.2410  \n",
              "1                                      0.6160  \n",
              "2                                      1.0000  \n",
              "3                                      1.8810  \n",
              "4                                      3.6300  \n",
              "5                                      4.6051  \n",
              "6                                      4.6130  \n",
              "7                                      5.5700  \n",
              "8                                     11.8620  \n",
              "9                                     29.4571  \n",
              "10                                    75.3200  \n",
              "11                                    84.0205  \n",
              "12                                   164.8000  \n",
              "13                                   245.1900  \n",
              "14                                   247.9400  \n",
              "15                                   283.1200  \n",
              "16                                   288.8300  \n",
              "17                                   306.2100  \n",
              "18                                   559.0700  \n",
              "19                                 11390.0000  "
            ],
            "text/html": [
              "\n",
              "  <div id=\"df-7a428d7a-4173-41a8-b2a4-a35b79b1f46a\">\n",
              "    <div class=\"colab-df-container\">\n",
              "      <div>\n",
              "<style scoped>\n",
              "    .dataframe tbody tr th:only-of-type {\n",
              "        vertical-align: middle;\n",
              "    }\n",
              "\n",
              "    .dataframe tbody tr th {\n",
              "        vertical-align: top;\n",
              "    }\n",
              "\n",
              "    .dataframe thead th {\n",
              "        text-align: right;\n",
              "    }\n",
              "</style>\n",
              "<table border=\"1\" class=\"dataframe\">\n",
              "  <thead>\n",
              "    <tr style=\"text-align: right;\">\n",
              "      <th></th>\n",
              "      <th>Planet/Dwarf Planet/Object</th>\n",
              "      <th>Average Distance From Sun (Millions of Miles)</th>\n",
              "      <th>Orbital Revolution Duration (Earth years)</th>\n",
              "    </tr>\n",
              "  </thead>\n",
              "  <tbody>\n",
              "    <tr>\n",
              "      <th>0</th>\n",
              "      <td>Mercury</td>\n",
              "      <td>33.390</td>\n",
              "      <td>0.2410</td>\n",
              "    </tr>\n",
              "    <tr>\n",
              "      <th>1</th>\n",
              "      <td>Venus</td>\n",
              "      <td>67.641</td>\n",
              "      <td>0.6160</td>\n",
              "    </tr>\n",
              "    <tr>\n",
              "      <th>2</th>\n",
              "      <td>Earth</td>\n",
              "      <td>93.581</td>\n",
              "      <td>1.0000</td>\n",
              "    </tr>\n",
              "    <tr>\n",
              "      <th>3</th>\n",
              "      <td>Mars</td>\n",
              "      <td>131.090</td>\n",
              "      <td>1.8810</td>\n",
              "    </tr>\n",
              "    <tr>\n",
              "      <th>4</th>\n",
              "      <td>Vesta</td>\n",
              "      <td>219.452</td>\n",
              "      <td>3.6300</td>\n",
              "    </tr>\n",
              "    <tr>\n",
              "      <th>5</th>\n",
              "      <td>Ceres</td>\n",
              "      <td>257.326</td>\n",
              "      <td>4.6051</td>\n",
              "    </tr>\n",
              "    <tr>\n",
              "      <th>6</th>\n",
              "      <td>Pallas</td>\n",
              "      <td>257.490</td>\n",
              "      <td>4.6130</td>\n",
              "    </tr>\n",
              "    <tr>\n",
              "      <th>7</th>\n",
              "      <td>Hygiea</td>\n",
              "      <td>292.021</td>\n",
              "      <td>5.5700</td>\n",
              "    </tr>\n",
              "    <tr>\n",
              "      <th>8</th>\n",
              "      <td>Jupiter</td>\n",
              "      <td>462.290</td>\n",
              "      <td>11.8620</td>\n",
              "    </tr>\n",
              "    <tr>\n",
              "      <th>9</th>\n",
              "      <td>Saturn</td>\n",
              "      <td>918.330</td>\n",
              "      <td>29.4571</td>\n",
              "    </tr>\n",
              "    <tr>\n",
              "      <th>10</th>\n",
              "      <td>Halley's Comet</td>\n",
              "      <td>1657.774</td>\n",
              "      <td>75.3200</td>\n",
              "    </tr>\n",
              "    <tr>\n",
              "      <th>11</th>\n",
              "      <td>Uranus</td>\n",
              "      <td>1831.300</td>\n",
              "      <td>84.0205</td>\n",
              "    </tr>\n",
              "    <tr>\n",
              "      <th>12</th>\n",
              "      <td>Neptune</td>\n",
              "      <td>2780.300</td>\n",
              "      <td>164.8000</td>\n",
              "    </tr>\n",
              "    <tr>\n",
              "      <th>13</th>\n",
              "      <td>Orcus</td>\n",
              "      <td>3641.451</td>\n",
              "      <td>245.1900</td>\n",
              "    </tr>\n",
              "    <tr>\n",
              "      <th>14</th>\n",
              "      <td>Pluto</td>\n",
              "      <td>3670.050</td>\n",
              "      <td>247.9400</td>\n",
              "    </tr>\n",
              "    <tr>\n",
              "      <th>15</th>\n",
              "      <td>Haumea</td>\n",
              "      <td>4007.883</td>\n",
              "      <td>283.1200</td>\n",
              "    </tr>\n",
              "    <tr>\n",
              "      <th>16</th>\n",
              "      <td>Quaoar</td>\n",
              "      <td>4061.633</td>\n",
              "      <td>288.8300</td>\n",
              "    </tr>\n",
              "    <tr>\n",
              "      <th>17</th>\n",
              "      <td>Makemake</td>\n",
              "      <td>4222.980</td>\n",
              "      <td>306.2100</td>\n",
              "    </tr>\n",
              "    <tr>\n",
              "      <th>18</th>\n",
              "      <td>Eris</td>\n",
              "      <td>6308.350</td>\n",
              "      <td>559.0700</td>\n",
              "    </tr>\n",
              "    <tr>\n",
              "      <th>19</th>\n",
              "      <td>Sedna</td>\n",
              "      <td>47040.000</td>\n",
              "      <td>11390.0000</td>\n",
              "    </tr>\n",
              "  </tbody>\n",
              "</table>\n",
              "</div>\n",
              "      <button class=\"colab-df-convert\" onclick=\"convertToInteractive('df-7a428d7a-4173-41a8-b2a4-a35b79b1f46a')\"\n",
              "              title=\"Convert this dataframe to an interactive table.\"\n",
              "              style=\"display:none;\">\n",
              "        \n",
              "  <svg xmlns=\"http://www.w3.org/2000/svg\" height=\"24px\"viewBox=\"0 0 24 24\"\n",
              "       width=\"24px\">\n",
              "    <path d=\"M0 0h24v24H0V0z\" fill=\"none\"/>\n",
              "    <path d=\"M18.56 5.44l.94 2.06.94-2.06 2.06-.94-2.06-.94-.94-2.06-.94 2.06-2.06.94zm-11 1L8.5 8.5l.94-2.06 2.06-.94-2.06-.94L8.5 2.5l-.94 2.06-2.06.94zm10 10l.94 2.06.94-2.06 2.06-.94-2.06-.94-.94-2.06-.94 2.06-2.06.94z\"/><path d=\"M17.41 7.96l-1.37-1.37c-.4-.4-.92-.59-1.43-.59-.52 0-1.04.2-1.43.59L10.3 9.45l-7.72 7.72c-.78.78-.78 2.05 0 2.83L4 21.41c.39.39.9.59 1.41.59.51 0 1.02-.2 1.41-.59l7.78-7.78 2.81-2.81c.8-.78.8-2.07 0-2.86zM5.41 20L4 18.59l7.72-7.72 1.47 1.35L5.41 20z\"/>\n",
              "  </svg>\n",
              "      </button>\n",
              "      \n",
              "  <style>\n",
              "    .colab-df-container {\n",
              "      display:flex;\n",
              "      flex-wrap:wrap;\n",
              "      gap: 12px;\n",
              "    }\n",
              "\n",
              "    .colab-df-convert {\n",
              "      background-color: #E8F0FE;\n",
              "      border: none;\n",
              "      border-radius: 50%;\n",
              "      cursor: pointer;\n",
              "      display: none;\n",
              "      fill: #1967D2;\n",
              "      height: 32px;\n",
              "      padding: 0 0 0 0;\n",
              "      width: 32px;\n",
              "    }\n",
              "\n",
              "    .colab-df-convert:hover {\n",
              "      background-color: #E2EBFA;\n",
              "      box-shadow: 0px 1px 2px rgba(60, 64, 67, 0.3), 0px 1px 3px 1px rgba(60, 64, 67, 0.15);\n",
              "      fill: #174EA6;\n",
              "    }\n",
              "\n",
              "    [theme=dark] .colab-df-convert {\n",
              "      background-color: #3B4455;\n",
              "      fill: #D2E3FC;\n",
              "    }\n",
              "\n",
              "    [theme=dark] .colab-df-convert:hover {\n",
              "      background-color: #434B5C;\n",
              "      box-shadow: 0px 1px 3px 1px rgba(0, 0, 0, 0.15);\n",
              "      filter: drop-shadow(0px 1px 2px rgba(0, 0, 0, 0.3));\n",
              "      fill: #FFFFFF;\n",
              "    }\n",
              "  </style>\n",
              "\n",
              "      <script>\n",
              "        const buttonEl =\n",
              "          document.querySelector('#df-7a428d7a-4173-41a8-b2a4-a35b79b1f46a button.colab-df-convert');\n",
              "        buttonEl.style.display =\n",
              "          google.colab.kernel.accessAllowed ? 'block' : 'none';\n",
              "\n",
              "        async function convertToInteractive(key) {\n",
              "          const element = document.querySelector('#df-7a428d7a-4173-41a8-b2a4-a35b79b1f46a');\n",
              "          const dataTable =\n",
              "            await google.colab.kernel.invokeFunction('convertToInteractive',\n",
              "                                                     [key], {});\n",
              "          if (!dataTable) return;\n",
              "\n",
              "          const docLinkHtml = 'Like what you see? Visit the ' +\n",
              "            '<a target=\"_blank\" href=https://colab.research.google.com/notebooks/data_table.ipynb>data table notebook</a>'\n",
              "            + ' to learn more about interactive tables.';\n",
              "          element.innerHTML = '';\n",
              "          dataTable['output_type'] = 'display_data';\n",
              "          await google.colab.output.renderOutput(dataTable, element);\n",
              "          const docLink = document.createElement('div');\n",
              "          docLink.innerHTML = docLinkHtml;\n",
              "          element.appendChild(docLink);\n",
              "        }\n",
              "      </script>\n",
              "    </div>\n",
              "  </div>\n",
              "  "
            ]
          },
          "metadata": {},
          "execution_count": 32
        }
      ],
      "source": [
        "d = {'Planet/Dwarf Planet/Object':['Mercury', 'Venus', 'Earth', 'Mars', 'Vesta', 'Ceres', 'Pallas', 'Hygiea', 'Jupiter', 'Saturn', 'Halley\\'s Comet', 'Uranus', 'Neptune', 'Orcus', 'Pluto', 'Haumea', 'Quaoar', 'Makemake', 'Eris', 'Sedna'], \n",
        "     'Average Distance From Sun (Millions of Miles)':[33.39, 67.641, 93.581, 131.09, 219.452, 257.326, 257.49, 292.021, 462.29, 918.33, 1657.774, 1831.3, 2780.3, 3641.451, 3670.05, 4007.883, 4061.633, 4222.98, 6308.35, 47040], \n",
        "     'Orbital Revolution Duration (Earth years)':[0.241, 0.616, 1, 1.881, 3.63, 4.6051, 4.613, 5.57, 11.862, 29.4571, 75.32, 84.0205, 164.8, 245.19, 247.94, 283.12, 288.83, 306.21, 559.07, 11390]}\n",
        "\n",
        "df = pd.DataFrame(data = d)\n",
        "df"
      ]
    },
    {
      "cell_type": "markdown",
      "metadata": {
        "id": "qGsxH_nkQHZA"
      },
      "source": [
        "We will now transform the data into the proper form we want to do our linear regression. After doing so, we will split our data set into two parts: one for training our linear regression model and the other for testing how well suited and accurate the model is."
      ]
    },
    {
      "cell_type": "code",
      "execution_count": null,
      "metadata": {
        "colab": {
          "base_uri": "https://localhost:8080/"
        },
        "id": "wBsWcX1hqWsN",
        "outputId": "a4132f54-07b4-41a5-a3a3-c850d524c2e1"
      },
      "outputs": [
        {
          "output_type": "execute_result",
          "data": {
            "text/plain": [
              "([7744.552287065372,\n",
              "  753107.6754832758,\n",
              "  214919.08310627003,\n",
              "  8.19526582641941,\n",
              "  170.39270895441982,\n",
              "  643791.3019013093,\n",
              "  170.71870264749003,\n",
              "  494328.83362525137,\n",
              "  987.9694086698903,\n",
              "  105.68628436073408,\n",
              "  249.0246001832527,\n",
              "  22.527276540290003,\n",
              "  61415.569902970004,\n",
              "  2510425.528374329,\n",
              "  3.094781974557211,\n",
              "  482862.42502833856],\n",
              " [867.7207404100001,\n",
              "  93764.56409999999,\n",
              "  27159.040000000005,\n",
              "  1.0,\n",
              "  21.206946010000003,\n",
              "  80156.9344,\n",
              "  21.279769000000005,\n",
              "  61474.2436,\n",
              "  140.707044,\n",
              "  13.1769,\n",
              "  31.024900000000002,\n",
              "  3.538161,\n",
              "  7059.44442025,\n",
              "  312559.26490000007,\n",
              "  0.379456,\n",
              "  60118.136099999996])"
            ]
          },
          "metadata": {},
          "execution_count": 33
        }
      ],
      "source": [
        "# list of the planet's distances from sun cubed divided by 100000 for easier representation and comparison with the Y-set\n",
        "X = [(1/100000) * x ** 3 for x in list(df['Average Distance From Sun (Millions of Miles)'])]\n",
        "# list of the planet's orbital years squared\n",
        "Y = [y ** 2 for y in list(df['Orbital Revolution Duration (Earth years)'])]\n",
        "x_train, x_test, y_train, y_test = sklearn.model_selection.train_test_split(X, Y, test_size = 0.2)\n",
        "x_train, y_train"
      ]
    },
    {
      "cell_type": "markdown",
      "metadata": {
        "id": "9vUd0WCVSl8C"
      },
      "source": [
        "Graph of the above data to show that a trend can be generally seen and that a linear regression would suffice for this."
      ]
    },
    {
      "cell_type": "code",
      "execution_count": null,
      "metadata": {
        "colab": {
          "base_uri": "https://localhost:8080/",
          "height": 299
        },
        "id": "ANlNllfDuXZ_",
        "outputId": "92e0c69b-3bd6-43a0-91b8-493c5dade31e"
      },
      "outputs": [
        {
          "output_type": "display_data",
          "data": {
            "text/plain": [
              "<Figure size 432x288 with 1 Axes>"
            ],
            "image/png": "[encoded data removed]"
          },
          "metadata": {
            "needs_background": "light"
          }
        }
      ],
      "source": [
        "plt.scatter(x_train, y_train, label= \"planets\", color= \"red\",\n",
        "            marker= \"*\")\n",
        "plt.xscale(\"log\")\n",
        "plt.xlabel('Cube of Average Distance from Sun')\n",
        "plt.yscale(\"log\")\n",
        "plt.ylabel('Square of Orbital Revolution Duration')\n",
        "plt.title('Kepler\\'s Third Law')\n",
        "plt.legend()\n",
        "plt.show()"
      ]
    },
    {
      "cell_type": "markdown",
      "metadata": {
        "id": "bfAwNbhY13U-"
      },
      "source": [
        "We can calculate the slope of the linear regression line by calculating the following sums: $m = \\frac{\\sum (x-x_i)(y-y_i)}{\\sum (x-x_i)^2}$. $x_i$ is equal to the average of the $x$ values and $y_i$ is equal to the average of the $y$ values. We can then use this to find our y-intercept and get the equation for our linear regression line as $y = mx + b$."
      ]
    },
    {
      "cell_type": "code",
      "execution_count": null,
      "metadata": {
        "colab": {
          "base_uri": "https://localhost:8080/"
        },
        "id": "xaMgP3Ey7Zgw",
        "outputId": "950748a4-f046-4cdc-a8d4-f0b23637496c"
      },
      "outputs": [
        {
          "output_type": "stream",
          "name": "stdout",
          "text": [
            "               x              y          x-xi           y-yi      (x-xi)^2  \\\n",
            "0   7.744552e+03     867.720740 -3.154000e+05  -39344.258099  9.947715e+10   \n",
            "1   7.531077e+05   93764.564100  4.299631e+05   53552.585260  1.848683e+11   \n",
            "2   2.149191e+05   27159.040000 -1.082255e+05  -13052.938840  1.171275e+10   \n",
            "3   8.195266e+00       1.000000 -3.231363e+05  -40210.978840  1.044171e+11   \n",
            "4   1.703927e+02      21.206946 -3.229741e+05  -40190.771894  1.043123e+11   \n",
            "5   6.437913e+05   80156.934400  3.206468e+05   39944.955560  1.028143e+11   \n",
            "6   1.707187e+02      21.279769 -3.229738e+05  -40190.699071  1.043121e+11   \n",
            "7   4.943288e+05   61474.243600  1.711843e+05   21262.264760  2.930406e+10   \n",
            "8   9.879694e+02     140.707044 -3.221566e+05  -40071.271796  1.037849e+11   \n",
            "9   1.056863e+02      13.176900 -3.230388e+05  -40198.801940  1.043541e+11   \n",
            "10  2.490246e+02      31.024900 -3.228955e+05  -40180.953940  1.042615e+11   \n",
            "11  2.252728e+01       3.538161 -3.231220e+05  -40208.440679  1.044078e+11   \n",
            "12  6.141557e+04    7059.444420 -2.617290e+05  -33152.534420  6.850205e+10   \n",
            "13  2.510426e+06  312559.264900  2.187281e+06  272347.286060  4.784198e+12   \n",
            "14  3.094782e+00       0.379456 -3.231414e+05  -40211.599384  1.044204e+11   \n",
            "15  4.828624e+05   60118.136100  1.597179e+05   19906.157260  2.550980e+10   \n",
            "\n",
            "    (x-xi)(y-yi)  \n",
            "0   1.240918e+10  \n",
            "1   2.302564e+10  \n",
            "2   1.412660e+09  \n",
            "3   1.299363e+10  \n",
            "4   1.298058e+10  \n",
            "5   1.280822e+10  \n",
            "6   1.298054e+10  \n",
            "7   3.639766e+09  \n",
            "8   1.290922e+10  \n",
            "9   1.298577e+10  \n",
            "10  1.297425e+10  \n",
            "11  1.299223e+10  \n",
            "12  8.676979e+09  \n",
            "13  5.957000e+11  \n",
            "14  1.299403e+10  \n",
            "15  3.179369e+09  \n",
            "From this data, we can conclude that the slope is 0.124524 and the intercept is -27.427955\n"
          ]
        }
      ],
      "source": [
        "# finding the averages of the X and Y\n",
        "xi = sum(x_train) / len(x_train)\n",
        "yi = sum(y_train) / len(y_train)\n",
        "\n",
        "# table and data for the datatable for calculations\n",
        "xData = {'x': [i for i in x_train],\n",
        "         'y': [i for i in y_train],\n",
        "         'x-xi': [i - xi for i in x_train],\n",
        "         'y-yi': [i - yi for i in y_train],\n",
        "         '(x-xi)^2': [(i - xi) ** 2 for i in x_train],\n",
        "         '(x-xi)(y-yi)': [(x_train[i] - xi) * (y_train[i] - yi) for i in range(len(x_train))]}\n",
        "yData = pd.DataFrame(data = xData)\n",
        "print(yData)\n",
        "\n",
        "# finding the slope and intercept based on the calculations\n",
        "slope = float(sum(yData[yData.columns[-1]]) / sum(yData[yData.columns[-2]]))\n",
        "intercept = yi - slope * xi\n",
        "print(\"From this data, we can conclude that the slope is %f and the intercept is %f\" %(slope, intercept))"
      ]
    },
    {
      "cell_type": "markdown",
      "source": [
        "We will graph our linear regression equation with the graph in order to see how well the data points fit with it graphically/visually."
      ],
      "metadata": {
        "id": "Dz28DuYOcxt8"
      }
    },
    {
      "cell_type": "code",
      "execution_count": null,
      "metadata": {
        "colab": {
          "base_uri": "https://localhost:8080/",
          "height": 517
        },
        "id": "McM-xsaASv-W",
        "outputId": "7e167266-e6dd-4f16-aa4f-560b93fa29e5"
      },
      "outputs": [
        {
          "output_type": "display_data",
          "data": {
            "text/plain": [
              "<Figure size 1080x576 with 1 Axes>"
            ],
            "image/png": "[encoded data removed]"
          },
          "metadata": {
            "needs_background": "light"
          }
        }
      ],
      "source": [
        "# graph of the data points along with the linear regression line\n",
        "plt.figure(figsize = (15, 8))\n",
        "plt.scatter(x_train, y_train, label= \"planets train\", color= \"red\",\n",
        "            marker= \"*\")\n",
        "plt.scatter(x_test, y_test, label= \"planets test\", color= \"blue\",\n",
        "            marker= \"x\")\n",
        "a = np.linspace(0, max(x_train + x_test))\n",
        "plt.plot(a, a * slope + intercept, label = \"linear regression\", color = \"black\")\n",
        "plt.xscale(\"log\")\n",
        "plt.xlabel('Cube of Average Distance from Sun')\n",
        "plt.yscale(\"log\")\n",
        "plt.ylabel('Square of Orbital Revolution Duration')\n",
        "plt.title('Kepler\\'s Third Law')\n",
        "plt.legend()\n",
        "plt.show()"
      ]
    },
    {
      "cell_type": "code",
      "source": [
        "for idx, celestials in enumerate(x_test):\n",
        "  print(\"The predicted value was %f and the expected value was %f\" %(celestials * slope + intercept, y_test[idx]))\n",
        "  print(\"The error is %f percent\" %(abs((celestials * slope + intercept - y_test[idx]) / y_test[idx]) * 100))\n",
        "  print()"
      ],
      "metadata": {
        "colab": {
          "base_uri": "https://localhost:8080/"
        },
        "id": "SyaDTCeuYFoS",
        "outputId": "5cc18112-6d1b-4d5e-b596-994f4e7b6130"
      },
      "execution_count": null,
      "outputs": [
        {
          "output_type": "stream",
          "name": "stdout",
          "text": [
            "The predicted value was 129615398.653947 and the expected value was 129732100.000000\n",
            "The error is 0.089956 percent\n",
            "\n",
            "The predicted value was 83409.208751 and the expected value was 83422.768900\n",
            "The error is 0.016255 percent\n",
            "\n",
            "The predicted value was -27.381599 and the expected value was 0.058081\n",
            "The error is 47243.814890 percent\n",
            "\n",
            "The predicted value was 5645.806407 and the expected value was 5673.102400\n",
            "The error is 0.481148 percent\n",
            "\n"
          ]
        }
      ]
    }
  ],
  "metadata": {
    "colab": {
      "name": "Linear Regression Experiment",
      "provenance": [],
      "authorship_tag": "ABX9TyO4Cses/b6462wVSx0j0/hD",
      "include_colab_link": true
    },
    "kernelspec": {
      "display_name": "Python 3",
      "name": "python3"
    },
    "language_info": {
      "name": "python"
    }
  },
  "nbformat": 4,
  "nbformat_minor": 0
}