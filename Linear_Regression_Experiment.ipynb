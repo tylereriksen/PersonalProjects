{
  "nbformat": 4,
  "nbformat_minor": 0,
  "metadata": {
    "colab": {
      "name": "Linear Regression Experiment",
      "provenance": [],
      "authorship_tag": "ABX9TyO01d9zbtQqvnjTHhAgIZCy",
      "include_colab_link": true
    },
    "kernelspec": {
      "name": "python3",
      "display_name": "Python 3"
    },
    "language_info": {
      "name": "python"
    }
  },
  "cells": [
    {
      "cell_type": "markdown",
      "metadata": {
        "id": "view-in-github",
        "colab_type": "text"
      },
      "source": [
        "<a href=\"https://colab.research.google.com/github/tylereriksen/PersonalProjects/blob/main/Linear_Regression_Experiment.ipynb\" target=\"_parent\"><img src=\"https://colab.research.google.com/assets/colab-badge.svg\" alt=\"Open In Colab\"/></a>"
      ]
    },
    {
      "cell_type": "markdown",
      "source": [
        "This notebook will look to show the Kepler's Third Law. We will do this by linear regression on a dataset of known planets, dwarf planets, and objects from a given dataset (which will contain a subset of all known intrasolar objects to train and test data with). We will be finding the line for the linear regression without using the SKLearn package and with it to see the differences in output."
      ],
      "metadata": {
        "id": "qq1uIwVOhrCe"
      }
    },
    {
      "cell_type": "code",
      "execution_count": null,
      "metadata": {
        "id": "RJ8tlVLGg0ah"
      },
      "outputs": [],
      "source": [
        "import pandas as pd\n",
        "import matplotlib.pyplot as plt\n",
        "import numpy as np"
      ]
    },
    {
      "cell_type": "markdown",
      "source": [
        "Make the data set of the planetary values for distance from sun and orbital duration"
      ],
      "metadata": {
        "id": "4RMmApoahqbI"
      }
    },
    {
      "cell_type": "code",
      "source": [
        "d = {'Planet/Dwarf Planet/Object':['Mercury', 'Venus', 'Earth', 'Mars', 'Ceres', 'Jupiter', 'Saturn', 'Uranus', 'Neptune'], \n",
        "     'Average Distance From Sun (Millions of Miles)':[33.39, 67.641, 93.581, 131.09, 257.326, 462.29, 918.33, 1831.3, 2780.3], \n",
        "     'Orbital Revolution Duration (Earth years)':[0.241, 0.616, 1, 1.881, 4.6051, 11.862, 29.4571, 84.0205, 164.8]}\n",
        "\n",
        "df = pd.DataFrame(data = d)\n",
        "df"
      ],
      "metadata": {
        "colab": {
          "base_uri": "https://localhost:8080/",
          "height": 331
        },
        "id": "NrhLwvsXiCk3",
        "outputId": "f046cc1e-7f20-4df2-a8fe-311a4a909dbe"
      },
      "execution_count": null,
      "outputs": [
        {
          "output_type": "execute_result",
          "data": {
            "text/plain": [
              "  Planet/Dwarf Planet/Object  Average Distance From Sun (Millions of Miles)  \\\n",
              "0                    Mercury                                         33.390   \n",
              "1                      Venus                                         67.641   \n",
              "2                      Earth                                         93.581   \n",
              "3                       Mars                                        131.090   \n",
              "4                      Ceres                                        257.326   \n",
              "5                    Jupiter                                        462.290   \n",
              "6                     Saturn                                        918.330   \n",
              "7                     Uranus                                       1831.300   \n",
              "8                    Neptune                                       2780.300   \n",
              "\n",
              "   Orbital Revolution Duration (Earth years)  \n",
              "0                                     0.2410  \n",
              "1                                     0.6160  \n",
              "2                                     1.0000  \n",
              "3                                     1.8810  \n",
              "4                                     4.6051  \n",
              "5                                    11.8620  \n",
              "6                                    29.4571  \n",
              "7                                    84.0205  \n",
              "8                                   164.8000  "
            ],
            "text/html": [
              "\n",
              "  <div id=\"df-6664d0c8-a2b2-4b17-a5ee-d74327f75f3a\">\n",
              "    <div class=\"colab-df-container\">\n",
              "      <div>\n",
              "<style scoped>\n",
              "    .dataframe tbody tr th:only-of-type {\n",
              "        vertical-align: middle;\n",
              "    }\n",
              "\n",
              "    .dataframe tbody tr th {\n",
              "        vertical-align: top;\n",
              "    }\n",
              "\n",
              "    .dataframe thead th {\n",
              "        text-align: right;\n",
              "    }\n",
              "</style>\n",
              "<table border=\"1\" class=\"dataframe\">\n",
              "  <thead>\n",
              "    <tr style=\"text-align: right;\">\n",
              "      <th></th>\n",
              "      <th>Planet/Dwarf Planet/Object</th>\n",
              "      <th>Average Distance From Sun (Millions of Miles)</th>\n",
              "      <th>Orbital Revolution Duration (Earth years)</th>\n",
              "    </tr>\n",
              "  </thead>\n",
              "  <tbody>\n",
              "    <tr>\n",
              "      <th>0</th>\n",
              "      <td>Mercury</td>\n",
              "      <td>33.390</td>\n",
              "      <td>0.2410</td>\n",
              "    </tr>\n",
              "    <tr>\n",
              "      <th>1</th>\n",
              "      <td>Venus</td>\n",
              "      <td>67.641</td>\n",
              "      <td>0.6160</td>\n",
              "    </tr>\n",
              "    <tr>\n",
              "      <th>2</th>\n",
              "      <td>Earth</td>\n",
              "      <td>93.581</td>\n",
              "      <td>1.0000</td>\n",
              "    </tr>\n",
              "    <tr>\n",
              "      <th>3</th>\n",
              "      <td>Mars</td>\n",
              "      <td>131.090</td>\n",
              "      <td>1.8810</td>\n",
              "    </tr>\n",
              "    <tr>\n",
              "      <th>4</th>\n",
              "      <td>Ceres</td>\n",
              "      <td>257.326</td>\n",
              "      <td>4.6051</td>\n",
              "    </tr>\n",
              "    <tr>\n",
              "      <th>5</th>\n",
              "      <td>Jupiter</td>\n",
              "      <td>462.290</td>\n",
              "      <td>11.8620</td>\n",
              "    </tr>\n",
              "    <tr>\n",
              "      <th>6</th>\n",
              "      <td>Saturn</td>\n",
              "      <td>918.330</td>\n",
              "      <td>29.4571</td>\n",
              "    </tr>\n",
              "    <tr>\n",
              "      <th>7</th>\n",
              "      <td>Uranus</td>\n",
              "      <td>1831.300</td>\n",
              "      <td>84.0205</td>\n",
              "    </tr>\n",
              "    <tr>\n",
              "      <th>8</th>\n",
              "      <td>Neptune</td>\n",
              "      <td>2780.300</td>\n",
              "      <td>164.8000</td>\n",
              "    </tr>\n",
              "  </tbody>\n",
              "</table>\n",
              "</div>\n",
              "      <button class=\"colab-df-convert\" onclick=\"convertToInteractive('df-6664d0c8-a2b2-4b17-a5ee-d74327f75f3a')\"\n",
              "              title=\"Convert this dataframe to an interactive table.\"\n",
              "              style=\"display:none;\">\n",
              "        \n",
              "  <svg xmlns=\"http://www.w3.org/2000/svg\" height=\"24px\"viewBox=\"0 0 24 24\"\n",
              "       width=\"24px\">\n",
              "    <path d=\"M0 0h24v24H0V0z\" fill=\"none\"/>\n",
              "    <path d=\"M18.56 5.44l.94 2.06.94-2.06 2.06-.94-2.06-.94-.94-2.06-.94 2.06-2.06.94zm-11 1L8.5 8.5l.94-2.06 2.06-.94-2.06-.94L8.5 2.5l-.94 2.06-2.06.94zm10 10l.94 2.06.94-2.06 2.06-.94-2.06-.94-.94-2.06-.94 2.06-2.06.94z\"/><path d=\"M17.41 7.96l-1.37-1.37c-.4-.4-.92-.59-1.43-.59-.52 0-1.04.2-1.43.59L10.3 9.45l-7.72 7.72c-.78.78-.78 2.05 0 2.83L4 21.41c.39.39.9.59 1.41.59.51 0 1.02-.2 1.41-.59l7.78-7.78 2.81-2.81c.8-.78.8-2.07 0-2.86zM5.41 20L4 18.59l7.72-7.72 1.47 1.35L5.41 20z\"/>\n",
              "  </svg>\n",
              "      </button>\n",
              "      \n",
              "  <style>\n",
              "    .colab-df-container {\n",
              "      display:flex;\n",
              "      flex-wrap:wrap;\n",
              "      gap: 12px;\n",
              "    }\n",
              "\n",
              "    .colab-df-convert {\n",
              "      background-color: #E8F0FE;\n",
              "      border: none;\n",
              "      border-radius: 50%;\n",
              "      cursor: pointer;\n",
              "      display: none;\n",
              "      fill: #1967D2;\n",
              "      height: 32px;\n",
              "      padding: 0 0 0 0;\n",
              "      width: 32px;\n",
              "    }\n",
              "\n",
              "    .colab-df-convert:hover {\n",
              "      background-color: #E2EBFA;\n",
              "      box-shadow: 0px 1px 2px rgba(60, 64, 67, 0.3), 0px 1px 3px 1px rgba(60, 64, 67, 0.15);\n",
              "      fill: #174EA6;\n",
              "    }\n",
              "\n",
              "    [theme=dark] .colab-df-convert {\n",
              "      background-color: #3B4455;\n",
              "      fill: #D2E3FC;\n",
              "    }\n",
              "\n",
              "    [theme=dark] .colab-df-convert:hover {\n",
              "      background-color: #434B5C;\n",
              "      box-shadow: 0px 1px 3px 1px rgba(0, 0, 0, 0.15);\n",
              "      filter: drop-shadow(0px 1px 2px rgba(0, 0, 0, 0.3));\n",
              "      fill: #FFFFFF;\n",
              "    }\n",
              "  </style>\n",
              "\n",
              "      <script>\n",
              "        const buttonEl =\n",
              "          document.querySelector('#df-6664d0c8-a2b2-4b17-a5ee-d74327f75f3a button.colab-df-convert');\n",
              "        buttonEl.style.display =\n",
              "          google.colab.kernel.accessAllowed ? 'block' : 'none';\n",
              "\n",
              "        async function convertToInteractive(key) {\n",
              "          const element = document.querySelector('#df-6664d0c8-a2b2-4b17-a5ee-d74327f75f3a');\n",
              "          const dataTable =\n",
              "            await google.colab.kernel.invokeFunction('convertToInteractive',\n",
              "                                                     [key], {});\n",
              "          if (!dataTable) return;\n",
              "\n",
              "          const docLinkHtml = 'Like what you see? Visit the ' +\n",
              "            '<a target=\"_blank\" href=https://colab.research.google.com/notebooks/data_table.ipynb>data table notebook</a>'\n",
              "            + ' to learn more about interactive tables.';\n",
              "          element.innerHTML = '';\n",
              "          dataTable['output_type'] = 'display_data';\n",
              "          await google.colab.output.renderOutput(dataTable, element);\n",
              "          const docLink = document.createElement('div');\n",
              "          docLink.innerHTML = docLinkHtml;\n",
              "          element.appendChild(docLink);\n",
              "        }\n",
              "      </script>\n",
              "    </div>\n",
              "  </div>\n",
              "  "
            ]
          },
          "metadata": {},
          "execution_count": 3
        }
      ]
    },
    {
      "cell_type": "markdown",
      "source": [
        "We will now transform the data into the proper form we want to do our linear regression."
      ],
      "metadata": {
        "id": "qGsxH_nkQHZA"
      }
    },
    {
      "cell_type": "code",
      "source": [
        "# list of the planet's distances from sun cubed divided by 100000 for easier representation and comparison with the Y-set\n",
        "X = [(1/100000) * x ** 3 for x in list(df['Average Distance From Sun (Millions of Miles)'])]\n",
        "# list of the planet's orbital years squared\n",
        "Y = [y ** 2 for y in list(df['Orbital Revolution Duration (Earth years)'])]\n",
        "X, Y"
      ],
      "metadata": {
        "colab": {
          "base_uri": "https://localhost:8080/"
        },
        "id": "wBsWcX1hqWsN",
        "outputId": "a5d67800-e021-4905-b8d6-97d4bb586990"
      },
      "execution_count": null,
      "outputs": [
        {
          "output_type": "execute_result",
          "data": {
            "text/plain": [
              "([0.3722624721900001,\n",
              "  3.094781974557211,\n",
              "  8.19526582641941,\n",
              "  22.527276540290003,\n",
              "  170.39270895441982,\n",
              "  987.9694086698903,\n",
              "  7744.552287065372,\n",
              "  61415.569902970004,\n",
              "  214919.08310627003],\n",
              " [0.058080999999999994,\n",
              "  0.379456,\n",
              "  1.0,\n",
              "  3.538161,\n",
              "  21.206946010000003,\n",
              "  140.707044,\n",
              "  867.7207404100001,\n",
              "  7059.44442025,\n",
              "  27159.040000000005])"
            ]
          },
          "metadata": {},
          "execution_count": 4
        }
      ]
    },
    {
      "cell_type": "markdown",
      "source": [
        "Graph of the above data to show that a trend can be generally seen and that a linear regression would suffice for this."
      ],
      "metadata": {
        "id": "9vUd0WCVSl8C"
      }
    },
    {
      "cell_type": "code",
      "source": [
        "plt.scatter(X, Y, label= \"planets\", color= \"red\",\n",
        "            marker= \"*\")\n",
        "plt.xscale(\"log\")\n",
        "plt.xlabel('Cube of Average Distance from Sun')\n",
        "plt.yscale(\"log\")\n",
        "plt.ylabel('Square of Orbital Revolution Duration')\n",
        "plt.title('Kepler\\'s Third Law')\n",
        "plt.legend()\n",
        "plt.show()"
      ],
      "metadata": {
        "colab": {
          "base_uri": "https://localhost:8080/",
          "height": 299
        },
        "id": "ANlNllfDuXZ_",
        "outputId": "285334eb-7757-4c02-8d5c-cf6141c3c758"
      },
      "execution_count": null,
      "outputs": [
        {
          "output_type": "display_data",
          "data": {
            "text/plain": [
              "<Figure size 432x288 with 1 Axes>"
            ],
            "image/png": "[encoded data removed]"
          },
          "metadata": {
            "needs_background": "light"
          }
        }
      ]
    },
    {
      "cell_type": "markdown",
      "source": [
        "We can calculate the slope of the linear regression line by calculating the following sums: $m = \\frac{\\sum (x-x_i)(y-y_i)}{\\sum (x-x_i)^2}$. $x_i$ is equal to the average of the $x$ values and $y_i$ is equal to the average of the $y$ values. We can then use this to find our y-intercept and get the equation for our linear regression line as $y = mx + b$."
      ],
      "metadata": {
        "id": "bfAwNbhY13U-"
      }
    },
    {
      "cell_type": "code",
      "source": [
        "# finding the averages of the X and Y\n",
        "xi = sum(X) / len(X)\n",
        "yi = sum(Y) / len(Y)\n",
        "\n",
        "# table and data for the datatable for calculations\n",
        "xData = {'x': [i for i in X],\n",
        "         'y': [i for i in Y],\n",
        "         'x-xi': [i - xi for i in X],\n",
        "         'y-yi': [i - yi for i in Y],\n",
        "         '(x-xi)^2': [(i - xi) ** 2 for i in X],\n",
        "         '(x-xi)(y-yi)': [(X[i] - xi) * (Y[i] - yi) for i in range(len(X))]}\n",
        "yData = pd.DataFrame(data = xData)\n",
        "print(yData)\n",
        "\n",
        "# finding the slope and intercept based on the calculations\n",
        "slope = float(sum(yData[yData.columns[-1]]) / sum(yData[yData.columns[-2]]))\n",
        "intercept = yi - slope * xi\n",
        "print(\"From this data, we can conclude that the slope is %f and the intercept is %f\" %(slope, intercept))"
      ],
      "metadata": {
        "id": "xaMgP3Ey7Zgw",
        "colab": {
          "base_uri": "https://localhost:8080/"
        },
        "outputId": "add74ba4-bb50-449d-c0c3-46eefc33bc25"
      },
      "execution_count": null,
      "outputs": [
        {
          "output_type": "stream",
          "name": "stdout",
          "text": [
            "               x             y           x-xi          y-yi      (x-xi)^2  \\\n",
            "0       0.372262      0.058081  -31696.489626  -3916.952458  1.004667e+09   \n",
            "1       3.094782      0.379456  -31693.767107  -3916.631083  1.004495e+09   \n",
            "2       8.195266      1.000000  -31688.666623  -3916.010539  1.004172e+09   \n",
            "3      22.527277      3.538161  -31674.334612  -3913.472378  1.003263e+09   \n",
            "4     170.392709     21.206946  -31526.469180  -3895.803593  9.939183e+08   \n",
            "5     987.969409    140.707044  -30708.892480  -3776.303495  9.430361e+08   \n",
            "6    7744.552287    867.720740  -23952.309602  -3049.289798  5.737131e+08   \n",
            "7   61415.569903   7059.444420   29718.708014   3142.433882  8.832016e+08   \n",
            "8  214919.083106  27159.040000  183222.221217  23242.029461  3.357038e+10   \n",
            "\n",
            "   (x-xi)(y-yi)  \n",
            "0  1.241536e+08  \n",
            "1  1.241328e+08  \n",
            "2  1.240932e+08  \n",
            "3  1.239566e+08  \n",
            "4  1.228209e+08  \n",
            "5  1.159661e+08  \n",
            "6  7.303753e+07  \n",
            "7  9.338907e+07  \n",
            "8  4.258456e+09  \n",
            "From this data, we can conclude that the slope is 0.125913 and the intercept is -74.024449\n"
          ]
        }
      ]
    },
    {
      "cell_type": "code",
      "source": [
        "# graph of the data points along with the linear regression line\n",
        "plt.figure(figsize = (15, 8))\n",
        "plt.scatter(X, Y, label= \"planets\", color= \"red\",\n",
        "            marker= \"*\")\n",
        "a = np.linspace(0, max(X))\n",
        "plt.plot(a, a * slope + intercept, label = \"linear regression\", color = \"black\")\n",
        "plt.xscale(\"log\")\n",
        "plt.xlabel('Cube of Average Distance from Sun')\n",
        "plt.yscale(\"log\")\n",
        "plt.ylabel('Square of Orbital Revolution Duration')\n",
        "plt.title('Kepler\\'s Third Law')\n",
        "plt.legend()\n",
        "plt.show()"
      ],
      "metadata": {
        "colab": {
          "base_uri": "https://localhost:8080/",
          "height": 517
        },
        "id": "McM-xsaASv-W",
        "outputId": "4e2c02c7-b38e-4531-d467-9de691b7599b"
      },
      "execution_count": null,
      "outputs": [
        {
          "output_type": "display_data",
          "data": {
            "text/plain": [
              "<Figure size 1080x576 with 1 Axes>"
            ],
            "image/png": "[encoded data removed]"
          },
          "metadata": {
            "needs_background": "light"
          }
        }
      ]
    }
  ]
}